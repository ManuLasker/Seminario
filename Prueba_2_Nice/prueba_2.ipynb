{
 "cells": [
  {
   "cell_type": "markdown",
   "metadata": {},
   "source": [
    "# Seminario Prueba I"
   ]
  },
  {
   "cell_type": "markdown",
   "metadata": {},
   "source": [
    "* Loading modules"
   ]
  },
  {
   "cell_type": "code",
   "execution_count": 2,
   "metadata": {},
   "outputs": [],
   "source": [
    "# My neural net model\n",
    "from neural_net import neural_net\n",
    "\n",
    "# Linear algebra library\n",
    "import numpy as np\n",
    "import scipy.optimize as op\n",
    "import pandas as pd\n",
    "import matplotlib.pyplot as plt\n",
    "import seaborn as sns\n",
    "\n",
    "%matplotlib inline\n",
    "plt.rcParams['figure.figsize'] = (8, 5) # set default size of plots\n",
    "plt.rcParams['image.interpolation'] = 'nearest'\n",
    "plt.rcParams['image.cmap'] = 'gray'\n",
    "\n",
    "%load_ext autoreload\n",
    "%autoreload 2"
   ]
  },
  {
   "cell_type": "code",
   "execution_count": 3,
   "metadata": {},
   "outputs": [],
   "source": [
    "def plotData(X, y, y_pred): \n",
    "    plt.subplot(2, 1, 1)\n",
    "    plt.title('real')\n",
    "    cross, = plt.plot([],[],'rx')\n",
    "    good, = plt.plot([],[],'go')\n",
    "    for i in range(len(y)):\n",
    "        if y[i] == 0:\n",
    "            plt.plot(X[i,0], X[i,1], 'rx')\n",
    "        else:\n",
    "            plt.plot(X[i,0],X[i,1], 'go')\n",
    "    plt.legend(handles = [cross, good], labels = ['False', 'True'],bbox_to_anchor=(1.05, 1), loc='upper left', borderaxespad=0)\n",
    "    plt.tight_layout()\n",
    "    \n",
    "    plt.subplot(2, 1, 2)\n",
    "    plt.title('predicción')\n",
    "    for i in range(len(y_pred)):\n",
    "        if y_pred[i] == 0:\n",
    "            plt.plot(X[i,0], X[i,1], 'rx')\n",
    "        else:\n",
    "            plt.plot(X[i,0],X[i,1], 'go')\n",
    "            \n",
    "    plt.legend(handles = [cross, good], labels = ['False', 'True'],bbox_to_anchor=(1.05, 1), loc='upper left', borderaxespad=0)\n",
    "    plt.tight_layout()\n",
    "    plt.show()"
   ]
  },
  {
   "cell_type": "code",
   "execution_count": 4,
   "metadata": {},
   "outputs": [],
   "source": [
    "def gradientCheck(net,X_temp, y, grads, reg = 0.0):\n",
    "    grad = {}\n",
    "    for param_name in net.function_params:\n",
    "        fun = lambda W: net.loss_function(X_temp, y, reg)\n",
    "        grad[param_name] = net.checkGradient(fun, net.function_params[param_name])\n",
    "    for key in grad:\n",
    "        print(f'difference {key}', np.linalg.norm(grad[key] - grads[key]))"
   ]
  },
  {
   "cell_type": "code",
   "execution_count": 5,
   "metadata": {},
   "outputs": [],
   "source": [
    "def plotStats(results):\n",
    "    # Plot the loss function and train / validation accuracies\n",
    "    plt.subplot(2, 1, 1)\n",
    "    plt.plot(results['loss_history'])\n",
    "    plt.title('Loss history')\n",
    "    plt.xlabel('Iteration')\n",
    "    plt.ylabel('Loss')\n",
    "\n",
    "    plt.subplot(2, 1, 2)\n",
    "    plt.plot(results['train_acc_history'], label='train')\n",
    "    plt.plot(results['val_acc_history'], label='val')\n",
    "    plt.title('Classification accuracy history')\n",
    "    plt.xlabel('Epoch')\n",
    "    plt.ylabel('Clasification accuracy')\n",
    "    plt.legend()\n",
    "    plt.tight_layout()\n",
    "    plt.show()"
   ]
  },
  {
   "cell_type": "code",
   "execution_count": 6,
   "metadata": {},
   "outputs": [],
   "source": [
    "from vis_utils import visualize_grid_withoutRGB, visualize_grid\n",
    "def show_net_weights(net, Wkey):\n",
    "    plt.figure(figsize=(7,7))\n",
    "    W1 = net.function_params[Wkey]\n",
    "    Z, N = W1.shape\n",
    "    size = int(np.sqrt(Z))\n",
    "    W1 = W1.reshape(size, size,-1).transpose(2,0,1)\n",
    "    print(W1.shape)\n",
    "    plt.imshow(visualize_grid_withoutRGB(W1, padding=3).astype('uint8'))\n",
    "    plt.gca().axis('off')\n",
    "    plt.show()"
   ]
  },
  {
   "cell_type": "code",
   "execution_count": 7,
   "metadata": {},
   "outputs": [],
   "source": [
    "def show_net_weights_rgb(net):\n",
    "    plt.rcParams['figure.figsize'] = (12, 12) # set default size of plots\n",
    "    plt.figure(figsize=(7,7))\n",
    "    W1 = net.function_params['W1']\n",
    "    W1 = W1.reshape(32, 32, 3, -1).transpose(3, 0, 1, 2)\n",
    "    W1 = W1[0:5].reshape(5, 32, 32, 3)\n",
    "    plt.imshow(visualize_grid(W1, padding=3).astype('uint8'))\n",
    "    plt.gca().axis('off')\n",
    "    plt.show()"
   ]
  },
  {
   "cell_type": "code",
   "execution_count": 10,
   "metadata": {},
   "outputs": [],
   "source": [
    "# if activaction_function = 'Sigmoid' and cost_function='Entropy_Loss':\n",
    "# 0<ol_size\n",
    "# if activaction_function = 'ReLu' and cost_function = 'Softmax':\n",
    "# 1<ol_size\n",
    "activaction_function = 'Sigmoid'\n",
    "cost_function = 'Entropy_Loss'"
   ]
  },
  {
   "cell_type": "markdown",
   "metadata": {},
   "source": [
    "## Operadores lógicos básicos\n",
    "* &\n",
    "* |\n",
    "* ->\n",
    "* <->\n",
    "* xor"
   ]
  },
  {
   "cell_type": "markdown",
   "metadata": {},
   "source": [
    "### AND"
   ]
  },
  {
   "cell_type": "code",
   "execution_count": 87,
   "metadata": {},
   "outputs": [],
   "source": [
    "# Initialize variables\n",
    "X = np.array([[1,1],\n",
    "              [1,0],\n",
    "              [0,1],\n",
    "              [0,0]])\n",
    "\n",
    "y = np.array([1,0,0,0])\n"
   ]
  },
  {
   "cell_type": "code",
   "execution_count": 88,
   "metadata": {},
   "outputs": [],
   "source": [
    "net_params = {'il':2,'hl1':5,'ol':2}"
   ]
  },
  {
   "cell_type": "code",
   "execution_count": 98,
   "metadata": {},
   "outputs": [
    {
     "name": "stderr",
     "output_type": "stream",
     "text": [
      "iteration 4999 / 5000, loss 0.0205: 100%|██████████| 5000/5000 [00:02<00:00, 1903.78it/s]\n"
     ]
    }
   ],
   "source": [
    "net = neural_net(net_params, activaction_function='ReLu', cost_function='SoftMax')\n",
    "results = net.train_stochastic_gradient_descent(X, y, X, y, reg = 0, verbose = True, learning_rate = 0.09, max_iter = 5000\n",
    "                                    , learning_rate_decay=0.99, batch_size=1)"
   ]
  },
  {
   "cell_type": "code",
   "execution_count": 83,
   "metadata": {},
   "outputs": [
    {
     "name": "stderr",
     "output_type": "stream",
     "text": [
      "iteration 999 / 1000, loss 0.0251: 100%|██████████| 1000/1000 [00:00<00:00, 2027.35it/s]\n"
     ]
    }
   ],
   "source": [
    "net = neural_net(net_params, activaction_function='ReLu', cost_function='SoftMax')\n",
    "results = net.train_gradient_descent(X, y, X, y, reg = 0, verbose = True, learning_rate = 0.09, max_iter = 1000\n",
    "                                    , learning_rate_decay=0.99, batch_size=1)"
   ]
  },
  {
   "cell_type": "code",
   "execution_count": 99,
   "metadata": {},
   "outputs": [
    {
     "data": {
      "image/png": "[encoded data removed]",
      "text/plain": [
       "<Figure size 800x500 with 2 Axes>"
      ]
     },
     "metadata": {},
     "output_type": "display_data"
    }
   ],
   "source": [
    "y_pred = net.predict(X)\n",
    "plotData(X, y, y_pred)"
   ]
  },
  {
   "cell_type": "code",
   "execution_count": 100,
   "metadata": {},
   "outputs": [
    {
     "data": {
      "image/png": "[encoded data removed]",
      "text/plain": [
       "<Figure size 800x500 with 2 Axes>"
      ]
     },
     "metadata": {},
     "output_type": "display_data"
    }
   ],
   "source": [
    "plotStats(results)"
   ]
  },
  {
   "cell_type": "code",
   "execution_count": 101,
   "metadata": {},
   "outputs": [
    {
     "name": "stdout",
     "output_type": "stream",
     "text": [
      "y-predict = [1 0 0 0], y-real = [1 0 0 0]\n"
     ]
    }
   ],
   "source": [
    "print(f'y-predict = {y_pred}, y-real = {y}')"
   ]
  },
  {
   "cell_type": "markdown",
   "metadata": {},
   "source": [
    "### OR"
   ]
  },
  {
   "cell_type": "code",
   "execution_count": null,
   "metadata": {},
   "outputs": [],
   "source": [
    "X = np.array([[1,1],\n",
    "              [1,0],\n",
    "              [0,1],\n",
    "              [0,0]])\n",
    "y = np.array([[1],\n",
    "              [1],\n",
    "              [1],\n",
    "              [0]])"
   ]
  },
  {
   "cell_type": "code",
   "execution_count": null,
   "metadata": {},
   "outputs": [],
   "source": [
    "net_params = {'il':2,'hl1':2, 'ol':2}"
   ]
  },
  {
   "cell_type": "code",
   "execution_count": null,
   "metadata": {},
   "outputs": [],
   "source": [
    "net = neural_net(net_params)"
   ]
  },
  {
   "cell_type": "code",
   "execution_count": null,
   "metadata": {},
   "outputs": [],
   "source": [
    "grads = net.back_prop(X, y)\n",
    "gradientCheck(net, X, y, grads)"
   ]
  },
  {
   "cell_type": "code",
   "execution_count": null,
   "metadata": {},
   "outputs": [],
   "source": [
    "y_pred = net.predict(X)\n",
    "plotData(X, y, y_pred)"
   ]
  },
  {
   "cell_type": "code",
   "execution_count": null,
   "metadata": {},
   "outputs": [],
   "source": [
    "results = net.train_stochastic_gradient_descent(X, y, X, y, reg = 0.5, verbose = True, \n",
    "                                                learning_rate = 1.9, max_iter = 5000\n",
    "                                    ,learning_rate_decay=0.99, batch_size=1)"
   ]
  },
  {
   "cell_type": "code",
   "execution_count": null,
   "metadata": {},
   "outputs": [],
   "source": [
    "y_pred = net.predict(X)\n",
    "plotData(X, y, y_pred)"
   ]
  },
  {
   "cell_type": "code",
   "execution_count": null,
   "metadata": {},
   "outputs": [],
   "source": [
    "plotStats(results)"
   ]
  },
  {
   "cell_type": "code",
   "execution_count": null,
   "metadata": {},
   "outputs": [],
   "source": [
    "print(f'y-predict = {y_pred}, y-real = {y.T}')"
   ]
  },
  {
   "cell_type": "markdown",
   "metadata": {},
   "source": [
    "### => Conditional"
   ]
  },
  {
   "cell_type": "code",
   "execution_count": null,
   "metadata": {},
   "outputs": [],
   "source": [
    "X = np.array([[1,1],\n",
    "              [1,0],\n",
    "              [0,1],\n",
    "              [0,0]])\n",
    "\n",
    "y = np.array([[1],\n",
    "              [0],\n",
    "              [1],\n",
    "              [1]])"
   ]
  },
  {
   "cell_type": "code",
   "execution_count": null,
   "metadata": {},
   "outputs": [],
   "source": [
    "net_params = {'il':2, 'ol': 2}"
   ]
  },
  {
   "cell_type": "code",
   "execution_count": null,
   "metadata": {},
   "outputs": [],
   "source": [
    "net = neural_net(net_params)"
   ]
  },
  {
   "cell_type": "code",
   "execution_count": null,
   "metadata": {},
   "outputs": [],
   "source": [
    "y_pred = net.predict(X)\n",
    "plotData(X, y, y_pred)"
   ]
  },
  {
   "cell_type": "code",
   "execution_count": null,
   "metadata": {},
   "outputs": [],
   "source": [
    "results = net.train_stochastic_gradient_descent(X, y, X, y, reg = 0, verbose = True, \n",
    "                                                learning_rate = 0.5, max_iter = 500\n",
    "                                    ,learning_rate_decay=0.99, batch_size=1)"
   ]
  },
  {
   "cell_type": "code",
   "execution_count": null,
   "metadata": {},
   "outputs": [],
   "source": [
    "y_pred = net.predict(X)\n",
    "plotData(X, y, y_pred)"
   ]
  },
  {
   "cell_type": "code",
   "execution_count": null,
   "metadata": {},
   "outputs": [],
   "source": [
    "plotStats(results)"
   ]
  },
  {
   "cell_type": "markdown",
   "metadata": {},
   "source": [
    "### iff, biconditional"
   ]
  },
  {
   "cell_type": "code",
   "execution_count": 7,
   "metadata": {},
   "outputs": [],
   "source": [
    "X = np.array([[1,1],\n",
    "              [1,0],\n",
    "              [0,1],\n",
    "              [0,0]])\n",
    "y = np.array([[1],\n",
    "              [0],\n",
    "              [0],\n",
    "              [1]])"
   ]
  },
  {
   "cell_type": "code",
   "execution_count": 17,
   "metadata": {},
   "outputs": [],
   "source": [
    "net_params = {'il':2, 'hl1':500,'ol':2}"
   ]
  },
  {
   "cell_type": "code",
   "execution_count": 18,
   "metadata": {},
   "outputs": [],
   "source": [
    "net = neural_net(net_params)"
   ]
  },
  {
   "cell_type": "code",
   "execution_count": 19,
   "metadata": {},
   "outputs": [
    {
     "data": {
      "image/png": "[encoded data removed]",
      "text/plain": [
       "<Figure size 432x288 with 2 Axes>"
      ]
     },
     "metadata": {
      "needs_background": "light"
     },
     "output_type": "display_data"
    }
   ],
   "source": [
    "y_pred = net.predict(X)\n",
    "plotData(X, y, y_pred)"
   ]
  },
  {
   "cell_type": "code",
   "execution_count": null,
   "metadata": {},
   "outputs": [
    {
     "name": "stderr",
     "output_type": "stream",
     "text": [
      "iteration 882 / 10000, loss 0.694:   9%|▉         | 882/10000 [00:02<00:23, 389.94it/s] "
     ]
    }
   ],
   "source": [
    "results = net.train_stochastic_gradient_descent(X, y, X, y, reg = 0, verbose = True, \n",
    "                                                learning_rate = 1e-4, max_iter = 10000\n",
    "                                    ,learning_rate_decay=0.99, batch_size=1)"
   ]
  },
  {
   "cell_type": "code",
   "execution_count": null,
   "metadata": {},
   "outputs": [],
   "source": [
    "y_pred = net.predict(X)\n",
    "plotData(X, y, y_pred)"
   ]
  },
  {
   "cell_type": "code",
   "execution_count": null,
   "metadata": {},
   "outputs": [],
   "source": [
    "plotStats(results)"
   ]
  },
  {
   "cell_type": "code",
   "execution_count": null,
   "metadata": {},
   "outputs": [],
   "source": [
    "# Let's change the neural net architecture\n",
    "net_params = {'il': 2, 'hl1': 2, 'ol':2}"
   ]
  },
  {
   "cell_type": "code",
   "execution_count": null,
   "metadata": {},
   "outputs": [],
   "source": [
    "net =  neural_net(net_params)"
   ]
  },
  {
   "cell_type": "code",
   "execution_count": null,
   "metadata": {},
   "outputs": [],
   "source": [
    "y_pred = net.predict(X)\n",
    "plotData(X, y, y_pred)"
   ]
  },
  {
   "cell_type": "code",
   "execution_count": null,
   "metadata": {},
   "outputs": [],
   "source": [
    "results = results = net.train_stochastic_gradient_descent(X, y, X, y, reg = 0, verbose = True, \n",
    "                                                learning_rate = 1e-1, max_iter = 5000\n",
    "                                    ,learning_rate_decay=0.99, batch_size=1)"
   ]
  },
  {
   "cell_type": "code",
   "execution_count": null,
   "metadata": {},
   "outputs": [],
   "source": [
    "y_pred = net.predict(X)\n",
    "plotData(X, y, y_pred)"
   ]
  },
  {
   "cell_type": "code",
   "execution_count": null,
   "metadata": {},
   "outputs": [],
   "source": [
    "plotStats(results)"
   ]
  },
  {
   "cell_type": "code",
   "execution_count": null,
   "metadata": {},
   "outputs": [],
   "source": [
    "net_params = {'il':2, 'hl1':4, 'ol':2}"
   ]
  },
  {
   "cell_type": "code",
   "execution_count": null,
   "metadata": {},
   "outputs": [],
   "source": [
    "net = neural_net(net_params)"
   ]
  },
  {
   "cell_type": "code",
   "execution_count": null,
   "metadata": {},
   "outputs": [],
   "source": [
    "y_pred = net.predict(X)\n",
    "plotData(X, y, y_pred)"
   ]
  },
  {
   "cell_type": "code",
   "execution_count": null,
   "metadata": {},
   "outputs": [],
   "source": [
    "grads = net.back_prop(X, y)\n",
    "gradientCheck(net, X, y, grads)"
   ]
  },
  {
   "cell_type": "code",
   "execution_count": null,
   "metadata": {
    "scrolled": true
   },
   "outputs": [],
   "source": [
    "results = results = net.train_gradient_descent(X, y, X, y, reg = 0, verbose = True, \n",
    "                                                learning_rate = 1.0, max_iter = 5000\n",
    "                                    ,learning_rate_decay=0.99, batch_size=1)"
   ]
  },
  {
   "cell_type": "code",
   "execution_count": null,
   "metadata": {},
   "outputs": [],
   "source": [
    "y_pred = net.predict(X)\n",
    "plotData(X, y, y_pred)"
   ]
  },
  {
   "cell_type": "code",
   "execution_count": null,
   "metadata": {},
   "outputs": [],
   "source": [
    "plotStats(results)"
   ]
  },
  {
   "cell_type": "markdown",
   "metadata": {},
   "source": [
    "### XOR"
   ]
  },
  {
   "cell_type": "code",
   "execution_count": null,
   "metadata": {},
   "outputs": [],
   "source": [
    "X = np.array([[1,1],\n",
    "              [1,0],\n",
    "              [0,1],\n",
    "              [0,0]])\n",
    "y = np.array([[0],\n",
    "              [1],\n",
    "              [1],\n",
    "              [0]])"
   ]
  },
  {
   "cell_type": "code",
   "execution_count": null,
   "metadata": {},
   "outputs": [],
   "source": [
    "net_params = {'il':2, 'hl1':5, 'ol': 2}"
   ]
  },
  {
   "cell_type": "code",
   "execution_count": null,
   "metadata": {},
   "outputs": [],
   "source": [
    "net = neural_net(net_params)"
   ]
  },
  {
   "cell_type": "code",
   "execution_count": null,
   "metadata": {},
   "outputs": [],
   "source": [
    "grads = net.back_prop(X, y)\n",
    "gradientCheck(net, X, y, grads)"
   ]
  },
  {
   "cell_type": "code",
   "execution_count": null,
   "metadata": {
    "scrolled": true
   },
   "outputs": [],
   "source": [
    "# Using gradient descent\n",
    "results = results = net.train_stochastic_gradient_descent(X, y, X, y, reg = 0.002, verbose = True, \n",
    "                                                learning_rate = 0.00005, max_iter = 5000\n",
    "                                    ,learning_rate_decay=0.99, batch_size=1)"
   ]
  },
  {
   "cell_type": "code",
   "execution_count": null,
   "metadata": {},
   "outputs": [],
   "source": [
    "y_pred = net.predict(X)\n",
    "plotData(X, y, y_pred)"
   ]
  },
  {
   "cell_type": "code",
   "execution_count": null,
   "metadata": {},
   "outputs": [],
   "source": [
    "plotStats(results)"
   ]
  },
  {
   "cell_type": "markdown",
   "metadata": {},
   "source": [
    "# Probando con Imagenes\n",
    "* Cargar MNIST Data digits"
   ]
  },
  {
   "cell_type": "code",
   "execution_count": null,
   "metadata": {},
   "outputs": [],
   "source": [
    "from scipy.io import loadmat\n",
    "from mlxtend.data import loadlocal_mnist"
   ]
  },
  {
   "cell_type": "code",
   "execution_count": null,
   "metadata": {},
   "outputs": [],
   "source": [
    "digits_image_path = 'data/train_images'\n",
    "digits_labels_path = 'data/train_labels'"
   ]
  },
  {
   "cell_type": "code",
   "execution_count": null,
   "metadata": {},
   "outputs": [],
   "source": [
    "images, labels = loadlocal_mnist(images_path= digits_image_path, labels_path = digits_labels_path)\n",
    "images_test, labels_test = loadlocal_mnist(images_path = 'data/test_images', labels_path = 'data/test_labels')"
   ]
  },
  {
   "cell_type": "code",
   "execution_count": null,
   "metadata": {},
   "outputs": [],
   "source": [
    "images = images.astype(int)\n",
    "print(f'shape of images dataset : {images.shape}')\n",
    "# labels = labels.astype(int).reshape(len(labels), 1)# Conver the (10000,) array to a matrix (10000, 1)\n",
    "labels = labels.astype(int)\n",
    "print(f'shape of labels dataset : {labels.shape} ')\n",
    "images_test = images_test.astype(int)\n",
    "print(f'shape of images_test dataset : {images_test.shape}')\n",
    "labels_test = labels_test.astype(int)\n",
    "# labels_test = labels_test.astype(int).reshape(len(labels_test), 1)\n",
    "print(f'shape of labels_test dataset : {labels_test.shape} ')"
   ]
  },
  {
   "cell_type": "code",
   "execution_count": null,
   "metadata": {},
   "outputs": [],
   "source": [
    "# Let's see some images\n",
    "num_images = 10\n",
    "num_samples, pixels_square = images.shape\n",
    "pixel_size = int(np.sqrt(pixels_square))\n",
    "idx = np.random.choice(num_samples, num_images)\n",
    "for i in range(10):\n",
    "    plt.imshow(images[idx[i]].reshape(pixel_size,pixel_size), cmap='gray')\n",
    "    plt.show()"
   ]
  },
  {
   "cell_type": "code",
   "execution_count": null,
   "metadata": {},
   "outputs": [],
   "source": [
    "net_params = {'il': pixels_square, 'hl1': 25, 'ol': 10} #25 hidden_size is not enough\n",
    "# net_params = {'il': pixels_square, 'hl1': 100, 'ol': 10}"
   ]
  },
  {
   "cell_type": "code",
   "execution_count": null,
   "metadata": {},
   "outputs": [],
   "source": [
    "net = neural_net(net_params, activaction_function = 'ReLu', cost_function = 'SoftMax')"
   ]
  },
  {
   "cell_type": "code",
   "execution_count": null,
   "metadata": {},
   "outputs": [],
   "source": [
    "images = images.reshape(num_samples, pixel_size, pixel_size)\n",
    "images.shape"
   ]
  },
  {
   "cell_type": "code",
   "execution_count": null,
   "metadata": {},
   "outputs": [],
   "source": [
    "images_test = images_test.reshape(images_test.shape[0], 28, 28)\n",
    "images_test.shape"
   ]
  },
  {
   "cell_type": "code",
   "execution_count": null,
   "metadata": {},
   "outputs": [],
   "source": [
    "X = images - np.mean(images, axis = 0) # Normalize the data is very important for fastest converge\n",
    "X_test = images_test - np.mean(images, axis = 0)"
   ]
  },
  {
   "cell_type": "code",
   "execution_count": null,
   "metadata": {},
   "outputs": [],
   "source": [
    "# X = images\n",
    "X_test = X_test.reshape(X_test.shape[0], -1)\n",
    "X = X.reshape(num_samples, -1)"
   ]
  },
  {
   "cell_type": "code",
   "execution_count": null,
   "metadata": {},
   "outputs": [],
   "source": [
    "y = labels\n",
    "y_test = labels_test"
   ]
  },
  {
   "cell_type": "code",
   "execution_count": null,
   "metadata": {},
   "outputs": [],
   "source": [
    "print(X.shape)\n",
    "print(X_test.shape)\n",
    "print(y.shape)\n",
    "print(y_test.shape)"
   ]
  },
  {
   "cell_type": "code",
   "execution_count": null,
   "metadata": {
    "scrolled": true
   },
   "outputs": [],
   "source": [
    "results = net.train_stochastic_gradient_descent(X, y, X_test, y_test, learning_rate=9.617504e-3 , max_iter= 3000,\n",
    "                                     verbose = True, reg = 7.1815e-7)"
   ]
  },
  {
   "cell_type": "code",
   "execution_count": null,
   "metadata": {},
   "outputs": [],
   "source": [
    "plotStats(results)"
   ]
  },
  {
   "cell_type": "code",
   "execution_count": null,
   "metadata": {},
   "outputs": [],
   "source": [
    "show_net_weights(net, 'W1')"
   ]
  },
  {
   "cell_type": "code",
   "execution_count": null,
   "metadata": {},
   "outputs": [],
   "source": [
    "(net.predict(X) == y).mean() * 100"
   ]
  },
  {
   "cell_type": "code",
   "execution_count": null,
   "metadata": {},
   "outputs": [],
   "source": [
    "(net.predict(X_test) == y_test).mean() * 100"
   ]
  },
  {
   "cell_type": "code",
   "execution_count": null,
   "metadata": {
    "scrolled": true
   },
   "outputs": [],
   "source": [
    "# Let's see some images\n",
    "q = ''\n",
    "while q == '':\n",
    "    idx = np.random.choice(y_test.shape[0])\n",
    "    print(f'the number is {y_pred[idx]}, {y_test[idx]}')\n",
    "    plt.imshow(images_test[idx])\n",
    "    plt.show()\n",
    "    q = input('')"
   ]
  },
  {
   "cell_type": "code",
   "execution_count": null,
   "metadata": {},
   "outputs": [],
   "source": [
    "input_dim = X.shape[1]\n",
    "hidden_dim = 500\n",
    "num_classes = 10\n",
    "\n",
    "#net = TwoLayerNet(input_dim, hidden_dim, num_classes)\n",
    "best_net = None\n",
    "best_val = -1\n",
    "\n",
    "def generate_random_hyperparams(lr_min, lr_max, reg_min, reg_max, h_min, h_max):\n",
    "    lr = 10**np.random.uniform(lr_min,lr_max)\n",
    "    reg = 10**np.random.uniform(reg_min,reg_max)\n",
    "    hidden = np.random.randint(h_min, h_max)\n",
    "    return lr, reg, hidden"
   ]
  },
  {
   "cell_type": "code",
   "execution_count": null,
   "metadata": {},
   "outputs": [],
   "source": [
    "# Use of random search for hyperparameter search\n",
    "for i in range(20):\n",
    "    lr, reg, hidden_dim = generate_random_hyperparams(-1, 0, -7, -4, 10, 500)\n",
    "    # Create a two-layer network\n",
    "    net_params = {'il': input_dim, 'hl1': hidden_dim, 'ol': num_classes}\n",
    "    net = neural_net(net_params)\n",
    "    \n",
    "    # Train the network\n",
    "    stats = net.train_stochastic_gradient_descent(X, y, X_test, y_test,\n",
    "                max_iter=3000, batch_size=200,\n",
    "                learning_rate=lr, learning_rate_decay=0.95,\n",
    "                reg=reg, verbose=True)\n",
    "\n",
    "    # Predict on the training set\n",
    "    train_accuracy = (net.predict(X) == y).mean()\n",
    "    \n",
    "    # Predict on the validation set\n",
    "    val_accuracy = (net.predict(X_test) == y_test).mean()\n",
    "    \n",
    "    # Save best values\n",
    "    if val_accuracy > best_val:\n",
    "        best_val = val_accuracy\n",
    "        best_net = net\n",
    "    \n",
    "    # Print results\n",
    "    print('lr %e reg %e hid %d  train accuracy: %f val accuracy: %f' % (\n",
    "                lr, reg, hidden_dim, train_accuracy, val_accuracy))\n",
    "print('best validation accuracy achieved: %f' % best_val)"
   ]
  },
  {
   "cell_type": "code",
   "execution_count": null,
   "metadata": {},
   "outputs": [],
   "source": [
    "show_net_weights(best_net, 'W1')"
   ]
  },
  {
   "cell_type": "code",
   "execution_count": null,
   "metadata": {},
   "outputs": [],
   "source": [
    "from scipy import ndimage\n",
    "from keras.preprocessing.image import ImageDataGenerator, array_to_img, img_to_array, load_img\n",
    "from PIL import Image\n",
    "import PIL.ImageOps\n",
    "image_new_path = 'data/7.png'\n",
    "IMAGE_WIDTH=28\n",
    "IMAGE_HEIGHT=28\n",
    "IMAGE_SIZE=(IMAGE_WIDTH, IMAGE_HEIGHT)\n",
    "img = load_img(image_new_path)\n",
    "img = img.resize((IMAGE_SIZE), Image.NEAREST)\n",
    "img = PIL.ImageOps.invert(img)\n",
    "img_array = img_to_array(img)\n",
    "img_array = img_array.mean(axis = 2)\n",
    "img_array -= np.mean(images, axis = 0)\n",
    "plt.imshow(img_array)\n",
    "plt.show()\n",
    "img_array = img_array.reshape(1, 28*28)\n"
   ]
  },
  {
   "cell_type": "code",
   "execution_count": null,
   "metadata": {},
   "outputs": [],
   "source": [
    "img_array.shape"
   ]
  },
  {
   "cell_type": "code",
   "execution_count": null,
   "metadata": {},
   "outputs": [],
   "source": [
    "net.predict(img_array)"
   ]
  },
  {
   "cell_type": "markdown",
   "metadata": {},
   "source": [
    "# Load CIFAR 10 data sets"
   ]
  },
  {
   "cell_type": "code",
   "execution_count": 8,
   "metadata": {},
   "outputs": [
    {
     "name": "stdout",
     "output_type": "stream",
     "text": [
      "Train data shape:  (49000, 3072)\n",
      "Train labels shape:  (49000,)\n",
      "Validation data shape:  (1000, 3072)\n",
      "Validation labels shape:  (1000,)\n",
      "Test data shape:  (1000, 3072)\n",
      "Test labels shape:  (1000,)\n"
     ]
    }
   ],
   "source": [
    "from data_utils import load_CIFAR10\n",
    "\n",
    "def get_CIFAR10_data(num_training=49000, num_validation=1000, num_test=1000):\n",
    "\n",
    "    # Load the raw CIFAR-10 data\n",
    "    cifar10_dir = 'data/cifar-10-batches-py'\n",
    "    \n",
    "    X_train, y_train, X_test, y_test = load_CIFAR10(cifar10_dir)\n",
    "        \n",
    "    # Subsample the data\n",
    "    mask = list(range(num_training, num_training + num_validation))\n",
    "    X_val = X_train[mask]\n",
    "    y_val = y_train[mask]\n",
    "    mask = list(range(num_training))\n",
    "    X_train = X_train[mask]\n",
    "    y_train = y_train[mask]\n",
    "    mask = list(range(num_test))\n",
    "    X_test = X_test[mask]\n",
    "    y_test = y_test[mask]\n",
    "\n",
    "    # Normalize the data: subtract the mean image\n",
    "    mean_image = np.mean(X_train, axis=0)\n",
    "    X_train -= mean_image\n",
    "    X_val -= mean_image\n",
    "    X_test -= mean_image\n",
    "\n",
    "    # Reshape data to rows\n",
    "    X_train = X_train.reshape(num_training, -1)\n",
    "    X_val = X_val.reshape(num_validation, -1)\n",
    "    X_test = X_test.reshape(num_test, -1)\n",
    "\n",
    "    return X_train, y_train, X_val, y_val, X_test, y_test, mean_image\n",
    "\n",
    "\n",
    "# Cleaning up variables to prevent loading data multiple times (which may cause memory issue)\n",
    "try:\n",
    "    del X_train, y_train\n",
    "    del X_test, y_test\n",
    "    del X, y\n",
    "    print('Clear previously loaded data.')\n",
    "except:\n",
    "    pass\n",
    "\n",
    "# Invoke the above function to get our data.\n",
    "X_train, y_train, X_val, y_val, X_test, y_test, mean_image = get_CIFAR10_data()\n",
    "print('Train data shape: ', X_train.shape)\n",
    "print('Train labels shape: ', y_train.shape)\n",
    "print('Validation data shape: ', X_val.shape)\n",
    "print('Validation labels shape: ', y_val.shape)\n",
    "print('Test data shape: ', X_test.shape)\n",
    "print('Test labels shape: ', y_test.shape)"
   ]
  },
  {
   "cell_type": "code",
   "execution_count": 9,
   "metadata": {},
   "outputs": [],
   "source": [
    "X_tiny = X_train[:20]\n",
    "y_tiny = y_train[:20]"
   ]
  },
  {
   "cell_type": "code",
   "execution_count": 10,
   "metadata": {},
   "outputs": [],
   "source": [
    "input_dim = X_tiny.shape[1]\n",
    "hidden_dim = 500\n",
    "num_classes = 10\n",
    "\n",
    "best_net = None\n",
    "best_val = -1\n",
    "\n",
    "def generate_random_hyperparams(lr_min, lr_max, reg_min, reg_max, h_min, h_max):\n",
    "    reg = 10**np.random.uniform(reg_min,reg_max)\n",
    "    hidden = np.random.randint(h_min, h_max)\n",
    "    return reg, hidden"
   ]
  },
  {
   "cell_type": "code",
   "execution_count": 11,
   "metadata": {},
   "outputs": [
    {
     "name": "stderr",
     "output_type": "stream",
     "text": [
      "iteration 499 / 500, loss 0.0019: 100%|██████████| 500/500 [00:07<00:00, 63.18it/s]\n",
      "iteration 499 / 500, loss 0.0011: 100%|█████████▉| 499/500 [00:12<00:00, 41.19it/s]"
     ]
    },
    {
     "name": "stdout",
     "output_type": "stream",
     "text": [
      "lr 1.641209e-06 reg 1.419667e-06 hid 313  train accuracy: 1.000000 val accuracy: 1.000000\n",
      "lr 1.641209e-06 reg 5.374952e-07 hid 488  train accuracy: 1.000000 val accuracy: 1.000000"
     ]
    },
    {
     "name": "stderr",
     "output_type": "stream",
     "text": [
      "iteration 499 / 500, loss 0.0034: 100%|█████████▉| 499/500 [00:11<00:00, 45.85it/s]"
     ]
    },
    {
     "name": "stdout",
     "output_type": "stream",
     "text": [
      "\n",
      "lr 1.641209e-06 reg 7.565449e-06 hid 448  train accuracy: 1.000000 val accuracy: 1.000000"
     ]
    },
    {
     "name": "stderr",
     "output_type": "stream",
     "text": [
      "iteration 499 / 500, loss 0.0: 100%|█████████▉| 499/500 [00:10<00:00, 46.85it/s]   "
     ]
    },
    {
     "name": "stdout",
     "output_type": "stream",
     "text": [
      "\n",
      "lr 1.641209e-06 reg 1.727868e-05 hid 401  train accuracy: 1.000000 val accuracy: 1.000000"
     ]
    },
    {
     "name": "stderr",
     "output_type": "stream",
     "text": [
      "iteration 499 / 500, loss 0.0053: 100%|█████████▉| 499/500 [00:06<00:00, 72.98it/s]"
     ]
    },
    {
     "name": "stdout",
     "output_type": "stream",
     "text": [
      "\n",
      "lr 1.641209e-06 reg 8.701495e-05 hid 274  train accuracy: 1.000000 val accuracy: 1.000000"
     ]
    },
    {
     "name": "stderr",
     "output_type": "stream",
     "text": [
      "iteration 499 / 500, loss 0.0022: 100%|██████████| 500/500 [00:06<00:00, 77.38it/s]"
     ]
    },
    {
     "name": "stdout",
     "output_type": "stream",
     "text": [
      "\n",
      "lr 1.641209e-06 reg 3.290521e-07 hid 260  train accuracy: 1.000000 val accuracy: 1.000000"
     ]
    },
    {
     "name": "stderr",
     "output_type": "stream",
     "text": [
      "\n",
      "iteration 499 / 500, loss 0.0: 100%|█████████▉| 499/500 [00:12<00:00, 42.77it/s]   "
     ]
    },
    {
     "name": "stdout",
     "output_type": "stream",
     "text": [
      "\n",
      "lr 1.641209e-06 reg 2.129774e-06 hid 491  train accuracy: 1.000000 val accuracy: 1.000000"
     ]
    },
    {
     "name": "stderr",
     "output_type": "stream",
     "text": [
      "iteration 499 / 500, loss 0.0015: 100%|█████████▉| 499/500 [00:04<00:00, 120.29it/s]"
     ]
    },
    {
     "name": "stdout",
     "output_type": "stream",
     "text": [
      "\n",
      "lr 1.641209e-06 reg 6.262199e-05 hid 167  train accuracy: 1.000000 val accuracy: 1.000000"
     ]
    },
    {
     "name": "stderr",
     "output_type": "stream",
     "text": [
      "iteration 499 / 500, loss 0.0015: 100%|█████████▉| 499/500 [00:10<00:00, 48.45it/s]"
     ]
    },
    {
     "name": "stdout",
     "output_type": "stream",
     "text": [
      "\n",
      "lr 1.641209e-06 reg 4.187805e-05 hid 403  train accuracy: 1.000000 val accuracy: 1.000000"
     ]
    },
    {
     "name": "stderr",
     "output_type": "stream",
     "text": [
      "iteration 499 / 500, loss 0.0: 100%|██████████| 500/500 [00:09<00:00, 58.05it/s]"
     ]
    },
    {
     "name": "stdout",
     "output_type": "stream",
     "text": [
      "\n",
      "lr 1.641209e-06 reg 9.695380e-07 hid 363  train accuracy: 1.000000 val accuracy: 1.000000"
     ]
    },
    {
     "name": "stderr",
     "output_type": "stream",
     "text": [
      "iteration 499 / 500, loss 0.0001: 100%|█████████▉| 499/500 [00:07<00:00, 68.08it/s]"
     ]
    },
    {
     "name": "stdout",
     "output_type": "stream",
     "text": [
      "\n",
      "lr 1.641209e-06 reg 8.523010e-05 hid 294  train accuracy: 1.000000 val accuracy: 1.000000"
     ]
    },
    {
     "name": "stderr",
     "output_type": "stream",
     "text": [
      "iteration 499 / 500, loss 0.0007: 100%|██████████| 500/500 [00:09<00:00, 55.23it/s]"
     ]
    },
    {
     "name": "stdout",
     "output_type": "stream",
     "text": [
      "\n",
      "lr 1.641209e-06 reg 8.397828e-07 hid 342  train accuracy: 1.000000 val accuracy: 1.000000"
     ]
    },
    {
     "name": "stderr",
     "output_type": "stream",
     "text": [
      "\n",
      "iteration 499 / 500, loss 0.0003: 100%|█████████▉| 499/500 [00:09<00:00, 55.05it/s]"
     ]
    },
    {
     "name": "stdout",
     "output_type": "stream",
     "text": [
      "\n",
      "lr 1.641209e-06 reg 6.261840e-06 hid 351  train accuracy: 1.000000 val accuracy: 1.000000"
     ]
    },
    {
     "name": "stderr",
     "output_type": "stream",
     "text": [
      "iteration 499 / 500, loss 0.0007: 100%|█████████▉| 499/500 [00:02<00:00, 200.39it/s]"
     ]
    },
    {
     "name": "stdout",
     "output_type": "stream",
     "text": [
      "\n",
      "lr 1.641209e-06 reg 1.236368e-07 hid 86  train accuracy: 1.000000 val accuracy: 1.000000"
     ]
    },
    {
     "name": "stderr",
     "output_type": "stream",
     "text": [
      "iteration 499 / 500, loss 0.0002: 100%|██████████| 500/500 [00:02<00:00, 201.24it/s]"
     ]
    },
    {
     "name": "stdout",
     "output_type": "stream",
     "text": [
      "\n",
      "lr 1.641209e-06 reg 1.727981e-05 hid 88  train accuracy: 0.950000 val accuracy: 0.950000"
     ]
    },
    {
     "name": "stderr",
     "output_type": "stream",
     "text": [
      "\n",
      "iteration 499 / 500, loss 0.0014: 100%|█████████▉| 499/500 [00:08<00:00, 62.47it/s]"
     ]
    },
    {
     "name": "stdout",
     "output_type": "stream",
     "text": [
      "\n",
      "lr 1.641209e-06 reg 2.185259e-05 hid 317  train accuracy: 0.950000 val accuracy: 0.950000"
     ]
    },
    {
     "name": "stderr",
     "output_type": "stream",
     "text": [
      "iteration 499 / 500, loss 0.0003: 100%|██████████| 500/500 [00:04<00:00, 120.66it/s]"
     ]
    },
    {
     "name": "stdout",
     "output_type": "stream",
     "text": [
      "\n",
      "lr 1.641209e-06 reg 1.108622e-06 hid 160  train accuracy: 1.000000 val accuracy: 1.000000"
     ]
    },
    {
     "name": "stderr",
     "output_type": "stream",
     "text": [
      "\n",
      "iteration 499 / 500, loss 0.0: 100%|█████████▉| 499/500 [00:11<00:00, 44.52it/s]   "
     ]
    },
    {
     "name": "stdout",
     "output_type": "stream",
     "text": [
      "\n",
      "lr 1.641209e-06 reg 8.747150e-06 hid 463  train accuracy: 1.000000 val accuracy: 1.000000"
     ]
    },
    {
     "name": "stderr",
     "output_type": "stream",
     "text": [
      "iteration 499 / 500, loss 0.0026: 100%|██████████| 500/500 [00:12<00:00, 43.59it/s]"
     ]
    },
    {
     "name": "stdout",
     "output_type": "stream",
     "text": [
      "\n",
      "lr 1.641209e-06 reg 4.882718e-07 hid 475  train accuracy: 1.000000 val accuracy: 1.000000"
     ]
    },
    {
     "name": "stderr",
     "output_type": "stream",
     "text": [
      "iteration 499 / 500, loss 0.0003: 100%|█████████▉| 499/500 [00:12<00:00, 43.31it/s]"
     ]
    },
    {
     "name": "stdout",
     "output_type": "stream",
     "text": [
      "\n",
      "lr 1.641209e-06 reg 1.781428e-05 hid 458  train accuracy: 1.000000 val accuracy: 1.000000\n",
      "best validation accuracy achieved: 1.000000\n"
     ]
    }
   ],
   "source": [
    "# Use of random search for hyperparameter search\n",
    "for i in range(20):\n",
    "    reg, hidden_dim = generate_random_hyperparams(-1, 0, -7, -4, 10, 500)\n",
    "    lr = 1.641209e-6\n",
    "    # Create a two-layer network\n",
    "    net_params = {'il': input_dim, 'hl1': hidden_dim, 'ol': num_classes}\n",
    "    net = neural_net(net_params)\n",
    "    \n",
    "    # Train the network\n",
    "    stats = net.train_stochastic_gradient_descent(X_tiny, y_tiny, X_tiny, y_tiny,\n",
    "                max_iter=500, batch_size=2,\n",
    "                learning_rate=lr, learning_rate_decay=0.99,\n",
    "                reg=0.0, verbose=True)\n",
    "\n",
    "    # Predict on the training set\n",
    "    train_accuracy = (net.predict(X_tiny) == y_tiny).mean()\n",
    "    \n",
    "    # Predict on the validation set\n",
    "    val_accuracy = (net.predict(X_tiny) == y_tiny).mean()\n",
    "    \n",
    "    # Save best values\n",
    "    if val_accuracy > best_val:\n",
    "        best_val = val_accuracy\n",
    "        best_net = net\n",
    "    \n",
    "    # Print results\n",
    "    print('lr %e reg %e hid %d  train accuracy: %f val accuracy: %f' % (\n",
    "                lr, reg, hidden_dim, train_accuracy, val_accuracy))\n",
    "print('best validation accuracy achieved: %f' % best_val)"
   ]
  },
  {
   "cell_type": "code",
   "execution_count": 12,
   "metadata": {},
   "outputs": [
    {
     "data": {
      "image/png": "[encoded data removed]",
      "text/plain": [
       "<Figure size 700x700 with 1 Axes>"
      ]
     },
     "metadata": {},
     "output_type": "display_data"
    }
   ],
   "source": [
    "show_net_weights_rgb(best_net)"
   ]
  },
  {
   "cell_type": "code",
   "execution_count": 13,
   "metadata": {},
   "outputs": [
    {
     "data": {
      "image/png": "[encoded data removed]",
      "text/plain": [
       "<Figure size 1200x1200 with 2 Axes>"
      ]
     },
     "metadata": {},
     "output_type": "display_data"
    }
   ],
   "source": [
    "plotStats(stats)"
   ]
  },
  {
   "cell_type": "code",
   "execution_count": 36,
   "metadata": {},
   "outputs": [
    {
     "name": "stderr",
     "output_type": "stream",
     "text": [
      "iteration 999 / 1000, loss 0.0012: 100%|█████████▉| 999/1000 [00:08<00:00, 115.98it/s]"
     ]
    }
   ],
   "source": [
    "net_params = {'il': 3072, 'hl1':150, 'hl2':150, 'ol':10}\n",
    "net = neural_net(net_params)\n",
    "stats = net.train_gradient_descent(X_tiny, y_tiny, X_tiny, y_tiny, max_iter = 1000, batch_size=1,\n",
    "            learning_rate=1.641209e-6, learning_rate_decay=0.99,\n",
    "            reg=0.0, verbose=True)"
   ]
  },
  {
   "cell_type": "code",
   "execution_count": 37,
   "metadata": {},
   "outputs": [
    {
     "data": {
      "image/png": "[encoded data removed]",
      "text/plain": [
       "<Figure size 1200x1200 with 2 Axes>"
      ]
     },
     "metadata": {},
     "output_type": "display_data"
    }
   ],
   "source": [
    "plotStats(stats)"
   ]
  },
  {
   "cell_type": "code",
   "execution_count": 38,
   "metadata": {},
   "outputs": [
    {
     "data": {
      "image/png": "[encoded data removed]",
      "text/plain": [
       "<Figure size 1200x1200 with 2 Axes>"
      ]
     },
     "metadata": {},
     "output_type": "display_data"
    }
   ],
   "source": [
    "plotStats(stats)"
   ]
  },
  {
   "cell_type": "code",
   "execution_count": 39,
   "metadata": {},
   "outputs": [
    {
     "data": {
      "image/png": "[encoded data removed]",
      "text/plain": [
       "<Figure size 700x700 with 1 Axes>"
      ]
     },
     "metadata": {},
     "output_type": "display_data"
    }
   ],
   "source": [
    "show_net_weights_rgb(net)"
   ]
  },
  {
   "cell_type": "code",
   "execution_count": null,
   "metadata": {},
   "outputs": [],
   "source": [
    "val_acc = (net.predict(X_val) == y_val).mean()\n",
    "print('Validation accuracy: ', val_acc)"
   ]
  },
  {
   "cell_type": "code",
   "execution_count": null,
   "metadata": {},
   "outputs": [],
   "source": [
    "y_val_pred = net.predict(X_val)\n",
    "print('finish val prediction')\n",
    "y_train_pred = net.predict(X_train)\n",
    "print('finish train prediction')\n",
    "y_test_pred = net.predict(X_test)\n",
    "print('finish test prediction')"
   ]
  },
  {
   "cell_type": "code",
   "execution_count": null,
   "metadata": {},
   "outputs": [],
   "source": [
    "test_acc = (net.predict(X_test) == y_test).mean()\n",
    "print('Validation accuracy: ', test_acc)"
   ]
  },
  {
   "cell_type": "code",
   "execution_count": null,
   "metadata": {},
   "outputs": [],
   "source": [
    "train_acc = (net.predict(X_train) == y_train).mean()\n",
    "print('train accuracy: ', train_acc)"
   ]
  },
  {
   "cell_type": "code",
   "execution_count": null,
   "metadata": {},
   "outputs": [],
   "source": [
    "#X_train = X_train.reshape(32, 32, 3, -1).transpose(3, 0, 1, 2) + mean_image\n",
    "X_train = X_train.reshape(X_train.shape[0], 32,32,3) + mean_image"
   ]
  },
  {
   "cell_type": "code",
   "execution_count": null,
   "metadata": {},
   "outputs": [],
   "source": [
    "classes = ['plane', 'car', 'bird', 'cat', 'deer', 'dog', 'frog', 'horse', 'ship', 'truck']\n",
    "plt.rcParams['figure.figsize'] = (20, 20) # set default size of plots\n",
    "examples_per_class = 11\n",
    "for cls, cls_name in enumerate(classes):\n",
    "    idxs = np.where((y_train == cls) & (y_train_pred == cls))[0]\n",
    "    idxs = np.random.choice(idxs, examples_per_class, replace=False)\n",
    "    for i, idx in enumerate(idxs):\n",
    "        plt.subplot(examples_per_class, len(classes), i * len(classes) + cls + 1)\n",
    "        plt.imshow(X_train[idx].reshape(32,32,3).astype('uint8'))\n",
    "        plt.axis('off')\n",
    "        if i == 0:\n",
    "            plt.title(cls_name)\n",
    "plt.show()"
   ]
  },
  {
   "cell_type": "markdown",
   "metadata": {},
   "source": [
    "## Proof of the ReLu model"
   ]
  },
  {
   "cell_type": "code",
   "execution_count": null,
   "metadata": {},
   "outputs": [],
   "source": [
    "input_size = 2\n",
    "hidden_size = 2\n",
    "num_classes = 3\n",
    "num_inputs = 5\n",
    "\n",
    "def init_toy_model():\n",
    "    np.random.seed(0)\n",
    "    net_params = {'il': input_size, 'hl1': hidden_size, 'ol': num_classes}\n",
    "    return neural_net(net_params, std=1e-1)\n",
    "\n",
    "def init_toy_data():\n",
    "    np.random.seed(1)\n",
    "    X = 10 * np.random.randn(num_inputs, input_size)\n",
    "    y = np.array([0, 1, 2, 2, 1])\n",
    "#     y = y.reshape(len(y),1)\n",
    "    return X, y\n",
    "\n",
    "net = init_toy_model()\n",
    "X, y = init_toy_data()\n"
   ]
  },
  {
   "cell_type": "code",
   "execution_count": null,
   "metadata": {},
   "outputs": [],
   "source": [
    "scores = net.feed_forward(X)\n",
    "print('Your scores:')\n",
    "print(scores)\n",
    "print()\n",
    "print('correct scores:')\n",
    "correct_scores = np.asarray([\n",
    "  [-0.81233741, -1.27654624, -0.70335995],\n",
    "  [-0.17129677, -1.18803311, -0.47310444],\n",
    "  [-0.51590475, -1.01354314, -0.8504215 ],\n",
    "  [-0.15419291, -0.48629638, -0.52901952],\n",
    "  [-0.00618733, -0.12435261, -0.15226949]])\n",
    "print(correct_scores)\n",
    "print()\n",
    "\n",
    "# The difference should be very small. We get < 1e-7\n",
    "print('Difference between your scores and correct scores:')\n",
    "print(np.sum(np.abs(scores - correct_scores)))"
   ]
  },
  {
   "cell_type": "code",
   "execution_count": null,
   "metadata": {},
   "outputs": [],
   "source": [
    "loss, _ = net.loss(X, y, reg = 0.05)\n",
    "print(loss)\n",
    "correct_loss = 1.30378789133\n",
    "\n",
    "# should be very small, we get < 1e-12\n",
    "print('Difference between your loss and correct loss:')\n",
    "print(np.sum(np.abs(loss - correct_loss)))"
   ]
  },
  {
   "cell_type": "code",
   "execution_count": null,
   "metadata": {},
   "outputs": [],
   "source": [
    "_, grads = net.loss(X, y, reg = 0.05)\n",
    "grads"
   ]
  },
  {
   "cell_type": "code",
   "execution_count": null,
   "metadata": {},
   "outputs": [],
   "source": [
    "grads = net.back_prop(X, y, reg = 0.05)\n",
    "grads"
   ]
  },
  {
   "cell_type": "code",
   "execution_count": null,
   "metadata": {},
   "outputs": [],
   "source": [
    "# grads = net.back_prop(X, y, reg = 0.05)\n",
    "grad = {}\n",
    "for param_name in net.function_params:\n",
    "    fun = lambda W: net.loss_function(X,y, reg = 0.05)\n",
    "    grad[param_name] = net.checkGradient(fun, net.function_params[param_name], verbose = False)"
   ]
  },
  {
   "cell_type": "code",
   "execution_count": null,
   "metadata": {},
   "outputs": [],
   "source": [
    "for key in grad:\n",
    "    print(f'difference {key}', np.linalg.norm(grad[key] - grads[key]))"
   ]
  },
  {
   "cell_type": "code",
   "execution_count": null,
   "metadata": {},
   "outputs": [],
   "source": [
    "grad = {}\n",
    "for param_name in net.function_params:\n",
    "    fun = lambda W: net.loss(X,y, reg = 0.05)[0]\n",
    "    grad[param_name] = net.checkGradient(fun, net.function_params[param_name], verbose = False)"
   ]
  },
  {
   "cell_type": "code",
   "execution_count": null,
   "metadata": {},
   "outputs": [],
   "source": [
    "for key in grad:\n",
    "    print(f'difference {key}', np.linalg.norm(grad[key] - grads[key]))"
   ]
  },
  {
   "cell_type": "code",
   "execution_count": null,
   "metadata": {},
   "outputs": [],
   "source": [
    "net = init_toy_model()\n",
    "stats = net.train_stochastic_gradient_descent(X, y, X, y,\n",
    "            learning_rate=1e-1, reg=5e-6,\n",
    "            max_iter=1000, verbose=True)"
   ]
  },
  {
   "cell_type": "code",
   "execution_count": null,
   "metadata": {},
   "outputs": [],
   "source": [
    "print('Final training loss: ', stats['loss_history'][-1])\n",
    "\n",
    "# plot the loss history\n",
    "plt.plot(stats['loss_history'])\n",
    "plt.xlabel('iteration')\n",
    "plt.ylabel('training loss')\n",
    "plt.title('Training Loss history')\n",
    "plt.show()"
   ]
  },
  {
   "cell_type": "markdown",
   "metadata": {},
   "source": [
    "## Conv net"
   ]
  },
  {
   "cell_type": "code",
   "execution_count": null,
   "metadata": {},
   "outputs": [],
   "source": []
  }
 ],
 "metadata": {
  "kernelspec": {
   "display_name": ".CSenv",
   "language": "python",
   "name": ".csenv"
  },
  "language_info": {
   "codemirror_mode": {
    "name": "ipython",
    "version": 3
   },
   "file_extension": ".py",
   "mimetype": "text/x-python",
   "name": "python",
   "nbconvert_exporter": "python",
   "pygments_lexer": "ipython3",
   "version": "3.7.4"
  }
 },
 "nbformat": 4,
 "nbformat_minor": 2
}
